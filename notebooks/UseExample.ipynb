{
 "cells": [
  {
   "cell_type": "code",
   "execution_count": 1,
   "id": "ec2061fd",
   "metadata": {},
   "outputs": [],
   "source": [
    "%load_ext autoreload\n",
    "%autoreload 2\n",
    "%gui qt\n",
    "%matplotlib qt5\n",
    "\n",
    "import sys\n",
    "import os\n",
    "\n",
    "#import cupy as cp\n",
    "import numpy as np\n",
    "import matplotlib.pyplot as plt"
   ]
  },
  {
   "cell_type": "markdown",
   "id": "8bd05a28",
   "metadata": {},
   "source": [
    "### Load Metadata module"
   ]
  },
  {
   "cell_type": "code",
   "execution_count": 2,
   "id": "3c6fb235",
   "metadata": {},
   "outputs": [
    {
     "name": "stdout",
     "output_type": "stream",
     "text": [
      "2023-07-12 10:55:37,835 [INFO] WRITING LOG OUTPUT TO /home/alo649/.cellpose/run.log\n"
     ]
    }
   ],
   "source": [
    "from oyLabImaging import Metadata"
   ]
  },
  {
   "cell_type": "markdown",
   "id": "f5c532f8",
   "metadata": {},
   "source": [
    "### Define path"
   ]
  },
  {
   "cell_type": "code",
   "execution_count": 3,
   "id": "25c390bb",
   "metadata": {},
   "outputs": [
    {
     "name": "stdout",
     "output_type": "stream",
     "text": [
      "loaded ND2 metadata from /bigstore/Microscopy Core/Jen/3T3_mRubyloss_HSV_20210818/metadata.pickle\n"
     ]
    }
   ],
   "source": [
    "fpath = '/bigstore/Microscopy Core/Jen/3T3_mRubyloss_HSV_20210818/'\n",
    "MD = Metadata(fpath)"
   ]
  },
  {
   "cell_type": "markdown",
   "id": "b1479580",
   "metadata": {},
   "source": [
    "# Check things out"
   ]
  },
  {
   "cell_type": "code",
   "execution_count": 5,
   "id": "771f3c2a",
   "metadata": {},
   "outputs": [],
   "source": [
    "MD.viewer()"
   ]
  },
  {
   "cell_type": "markdown",
   "id": "4376b5ec",
   "metadata": {},
   "source": [
    "# If needed, calculate drift correction"
   ]
  },
  {
   "cell_type": "code",
   "execution_count": 5,
   "id": "9dae1a6e",
   "metadata": {},
   "outputs": [
    {
     "name": "stdout",
     "output_type": "stream",
     "text": [
      "opening file img_channel000_position002_time000000059_z000.tif\n",
      "Loaded Pos2 group of images.\n",
      "\n",
      "calculating drift correction for position Pos2\n",
      "calculated drift correction for position Pos2\n",
      "opening file img_channel000_position000_time000000059_z000.tif\n",
      "Loaded Pos0 group of images.\n",
      "\n",
      "calculating drift correction for position Pos0\n",
      "calculated drift correction for position Pos0\n",
      "opening file img_channel000_position001_time000000059_z000.tif\n",
      "Loaded Pos1 group of images.\n",
      "\n",
      "calculating drift correction for position Pos1\n",
      "calculated drift correction for position Pos1\n"
     ]
    }
   ],
   "source": [
    "MD.CalculateDriftCorrection(Channel='DeepBlue', GPU=True)"
   ]
  },
  {
   "cell_type": "markdown",
   "id": "ef567c39",
   "metadata": {},
   "source": [
    "# Save metadata"
   ]
  },
  {
   "cell_type": "code",
   "execution_count": null,
   "id": "0e1d65ab",
   "metadata": {},
   "outputs": [],
   "source": [
    "MD.save()"
   ]
  },
  {
   "cell_type": "markdown",
   "id": "f138774c",
   "metadata": {},
   "source": [
    "### See how the drift correction worked"
   ]
  },
  {
   "cell_type": "code",
   "execution_count": 12,
   "id": "bc765b9a",
   "metadata": {},
   "outputs": [
    {
     "name": "stdout",
     "output_type": "stream",
     "text": [
      "opening index 8209\n",
      "Loaded group 1 of images.\n"
     ]
    }
   ],
   "source": [
    "MD.viewer()"
   ]
  },
  {
   "cell_type": "markdown",
   "id": "bca7d42c",
   "metadata": {},
   "source": [
    "### you can export whatever is on your napari canvas to a video"
   ]
  },
  {
   "cell_type": "code",
   "execution_count": null,
   "id": "05f7adc4",
   "metadata": {},
   "outputs": [],
   "source": [
    "from oyLabImaging.Processing.imvisutils import export_napari_to_movie\n",
    "export_napari_to_movie('file name')"
   ]
  },
  {
   "cell_type": "markdown",
   "id": "5ac208c1",
   "metadata": {},
   "source": [
    "### If you want to segment cells, you can use a function called try_segmentation to see how the algorythm performs with different parameters. Any parameter value that's changed from the default should be added to the call for segmentation of the full data below. seg_widget.input_dict has that data as can be seen below"
   ]
  },
  {
   "cell_type": "code",
   "execution_count": 5,
   "id": "4054dd84",
   "metadata": {},
   "outputs": [],
   "source": [
    "seg_widget = MD.try_segmentation()"
   ]
  },
  {
   "cell_type": "markdown",
   "id": "06aacb68",
   "metadata": {},
   "source": [
    "# make empty results object"
   ]
  },
  {
   "cell_type": "code",
   "execution_count": 25,
   "id": "74dbec93",
   "metadata": {},
   "outputs": [
    {
     "name": "stdout",
     "output_type": "stream",
     "text": [
      "\n",
      "loaded results from pickle file\n"
     ]
    }
   ],
   "source": [
    "from oyLabImaging.Processing import results\n",
    "R = results(MD=MD)"
   ]
  },
  {
   "cell_type": "code",
   "execution_count": 26,
   "id": "d370cde4",
   "metadata": {},
   "outputs": [
    {
     "name": "stdout",
     "output_type": "stream",
     "text": [
      "Results object for path to experiment in path: \n",
      " /bigstore/Microscopy Core/Jen/3T3_mRubyloss_HSV_20210818/\n",
      "\n",
      "Available channels are : DIC N2, Widefield Green, Widefield Red, Widefield Dual Cyan, Widefield Blue.\n",
      "\n",
      "Positions already segmented are : 0\n",
      "\n",
      "Available positions : 0, 1, 2, 3, 4, 5.\n",
      "\n",
      "Available frames : 92.\n"
     ]
    }
   ],
   "source": [
    "R()"
   ]
  },
  {
   "cell_type": "code",
   "execution_count": 27,
   "id": "4cdd29e5",
   "metadata": {},
   "outputs": [
    {
     "name": "stdout",
     "output_type": "stream",
     "text": [
      "\n",
      "Processing position 0\n"
     ]
    },
    {
     "name": "stderr",
     "output_type": "stream",
     "text": [
      "100%|███████████████████████████████████████████| 92/92 [01:11<00:00,  1.29it/s]\n"
     ]
    },
    {
     "name": "stdout",
     "output_type": "stream",
     "text": [
      "\n",
      "Finished loading and segmenting position 0\n",
      "saved results\n"
     ]
    }
   ],
   "source": [
    "#doing this **b.input_dict will use the parameters you found earlier with segmentation.test_segmentation_params\n",
    "R.segment_and_extract_features(MD=MD,Position=R.PosNames[0],NucChannel=R.channels[0],segment_type='cellpose_nuclei', threads=6, **seg_widget.input_dict)"
   ]
  },
  {
   "cell_type": "code",
   "execution_count": 28,
   "id": "2b366178",
   "metadata": {},
   "outputs": [
    {
     "name": "stdout",
     "output_type": "stream",
     "text": [
      "Calculating tracks for position 0\n",
      "linking frame 90\n",
      "Finished connecting tracks\n",
      "\n",
      "Finished finding splits\n"
     ]
    },
    {
     "name": "stderr",
     "output_type": "stream",
     "text": [
      "100%|█████████████████████████████████████████| 44/44 [00:00<00:00, 1733.80it/s]\n"
     ]
    },
    {
     "name": "stdout",
     "output_type": "stream",
     "text": [
      "saved results\n"
     ]
    }
   ],
   "source": [
    "R.calculate_tracks(pos=R.PosNames[0], params=[(MD.channels[0],1),(MD.channels[2],1)], search_radius=30, maxStep=15)"
   ]
  },
  {
   "cell_type": "code",
   "execution_count": 9,
   "id": "1fdfed2f",
   "metadata": {},
   "outputs": [
    {
     "name": "stdout",
     "output_type": "stream",
     "text": [
      "showing channel DeepBlue\n",
      "2021-09-09 15:48:47,663 [INFO] WRITING LOG OUTPUT TO /home/alo649/.cellpose/run.log\n"
     ]
    }
   ],
   "source": [
    "R.show_points(R.PosNames[0], Channel=MD.channels[0])"
   ]
  },
  {
   "cell_type": "code",
   "execution_count": 20,
   "id": "9ffcca7b",
   "metadata": {},
   "outputs": [
    {
     "name": "stdout",
     "output_type": "stream",
     "text": [
      "showing channel DeepBlue\n"
     ]
    }
   ],
   "source": [
    "R.show_tracks(R.PosNames[0], J=np.arange(50))"
   ]
  },
  {
   "cell_type": "markdown",
   "id": "753cc035",
   "metadata": {},
   "source": [
    "## Open track explorer in napari and look at your data."
   ]
  },
  {
   "cell_type": "code",
   "execution_count": 29,
   "id": "51b84ec0",
   "metadata": {},
   "outputs": [],
   "source": [
    "R.track_explorer()"
   ]
  },
  {
   "cell_type": "markdown",
   "id": "19bd7783",
   "metadata": {},
   "source": [
    "## Ways to get data out, either to csv or as a matrix"
   ]
  },
  {
   "cell_type": "code",
   "execution_count": null,
   "id": "c514a19a",
   "metadata": {},
   "outputs": [],
   "source": [
    "R.property_matrix?"
   ]
  },
  {
   "cell_type": "code",
   "execution_count": null,
   "id": "e01482e7",
   "metadata": {},
   "outputs": [],
   "source": [
    "R.prop_to_csv?"
   ]
  },
  {
   "cell_type": "code",
   "execution_count": 35,
   "id": "d17a007b",
   "metadata": {},
   "outputs": [],
   "source": [
    "t0 = R.tracks(0)"
   ]
  },
  {
   "cell_type": "code",
   "execution_count": 37,
   "id": "dec2145f",
   "metadata": {},
   "outputs": [],
   "source": [
    "i=20\n",
    "plt.plot(t0(i).T, t0(i).mean(MD.channels[4]))\n",
    "plt.show()"
   ]
  },
  {
   "cell_type": "markdown",
   "id": "3ef24c0d",
   "metadata": {},
   "source": [
    "### you can see a movie of a single tracked cell in different channels"
   ]
  },
  {
   "cell_type": "code",
   "execution_count": null,
   "id": "75c8296d",
   "metadata": {},
   "outputs": [],
   "source": [
    "i=37\n",
    "t0(i).show_movie(['DeepBlue','Red', 'Green'], cmaps=['cyan', 'magenta', 'yellow'])"
   ]
  },
  {
   "cell_type": "markdown",
   "id": "78e5cb50",
   "metadata": {},
   "source": [
    "### Routine for making a video with added plotting of fluorescence trajectories\n"
   ]
  },
  {
   "cell_type": "code",
   "execution_count": null,
   "id": "58433504",
   "metadata": {},
   "outputs": [],
   "source": [
    "\n",
    "filename = 'your filename'\n",
    "import matplotlib.animation as animation\n",
    "dt=30\n",
    "ims=[]\n",
    "fig = plt.figure(facecolor='k')\n",
    "ax1 = fig.add_subplot(2,1,1,facecolor='k')\n",
    "ax2 = fig.add_subplot(2,1,2,facecolor='k')\n",
    "\n",
    "\n",
    "ax2.spines['bottom'].set_color('w')\n",
    "ax2.spines['top'].set_color('w')\n",
    "ax2.spines['left'].set_color('w')\n",
    "ax2.spines['right'].set_color('w')\n",
    "ax2.tick_params(axis='x', colors='w')\n",
    "ax2.tick_params(axis='y', colors='w')\n",
    "for j in range(int(viewer.dims.range[0][1])+1):\n",
    "    viewer.dims.current_step=[j,0,0]\n",
    "    ax1.set_position([0, 0, 0.5, 1])\n",
    "    im = ax1.imshow(viewer.window.qt_viewer.canvas.render(),animated=True)\n",
    "    t1 = ax1.text(10, 1, \"%02d:%02d h\"%(int(j*dt/60),j*dt%60),color='w')\n",
    "    ax2.set_position([0.55, 0.3, 0.35, 0.4])\n",
    "    # add as many trajectories as you want\n",
    "    line1 = ax2.plot(t0(i).T[:j]/2, stats.zscore(t0(i).mean('DeepBlue'))[:j],'c',animated=True)\n",
    "    line2 = ax2.plot(t0(i).T[:j]/2, stats.zscore(t0(i).mean('Red'))[:j],'m',animated=True)\n",
    "    line3 = ax2.plot(t0(i).T[:j]/2, stats.zscore(t0(i).mean('Green'))[:j],'y',animated=True)\n",
    "    line4 = ax2.plot(t0(i).T[:j]/2, stats.zscore(t0(i).area)[:j],'r',animated=True)\n",
    "    ax2.legend(['Nuclei', 'mCherry', 'Death', 'Nuc. Area'], bbox_to_anchor=(0.7, 1.1), fancybox=True, facecolor='w', framealpha=1)\n",
    "    ax2.set_xlabel('Time (h)', color='w')\n",
    "    ax2.set_ylabel('AU', color='w')\n",
    "    ims.append([t1, im, line1[0],line2[0],line3[0],line4[0],])\n",
    "    \n",
    "\n",
    "ani=animation.ArtistAnimation(fig,ims, interval=50,blit=True,repeat_delay=1000)\n",
    "\n",
    "writer = animation.FFMpegWriter(fps=8, bitrate=1800)\n",
    "\n",
    "ani.save(filename, writer=writer)"
   ]
  },
  {
   "cell_type": "code",
   "execution_count": null,
   "id": "4d402f14",
   "metadata": {},
   "outputs": [],
   "source": []
  }
 ],
 "metadata": {
  "kernelspec": {
   "display_name": "oyimg_vie",
   "language": "python",
   "name": "oyimg_vie"
  },
  "language_info": {
   "codemirror_mode": {
    "name": "ipython",
    "version": 3
   },
   "file_extension": ".py",
   "mimetype": "text/x-python",
   "name": "python",
   "nbconvert_exporter": "python",
   "pygments_lexer": "ipython3",
   "version": "3.8.17"
  }
 },
 "nbformat": 4,
 "nbformat_minor": 5
}
